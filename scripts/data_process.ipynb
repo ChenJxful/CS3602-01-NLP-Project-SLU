{
 "cells": [
  {
   "cell_type": "code",
   "execution_count": 10,
   "metadata": {},
   "outputs": [],
   "source": [
    "from torch.utils.data import Dataset, DataLoader\n",
    "import json"
   ]
  },
  {
   "cell_type": "code",
   "execution_count": 11,
   "metadata": {},
   "outputs": [
    {
     "data": {
      "text/plain": [
       "(['导航到凯里大十字', '第二个'],\n",
       " [[['inform', '操作', '导航'], ['inform', '终点名称', '凯里大十字']],\n",
       "  [['inform', '序列号', '第二个']]])"
      ]
     },
     "execution_count": 11,
     "metadata": {},
     "output_type": "execute_result"
    }
   ],
   "source": [
    "class TrainDataSet(Dataset):\n",
    "    def __init__(self):\n",
    "        super().__init__()\n",
    "        with open('../data/../data/train.json', 'r') as f:\n",
    "            dataset_list = json.load(f)\n",
    "        self.dataset = dataset_list\n",
    "    def __getitem__(self, index):\n",
    "        utt = []\n",
    "        semantic = []\n",
    "        for one_utt in self.dataset[index]:\n",
    "            utt.append(one_utt['asr_1best'])\n",
    "            semantic.append(one_utt['semantic'])\n",
    "        return utt, semantic\n",
    "    def __len__(self):\n",
    "        return len(self.dataset)\n",
    "train_dataset = TrainDataSet()\n",
    "    "
   ]
  },
  {
   "cell_type": "code",
   "execution_count": 14,
   "metadata": {},
   "outputs": [
    {
     "data": {
      "text/plain": [
       "(2933,\n",
       " ['导航到凯里大十字', '第二个'],\n",
       " [[['inform', '操作', '导航'], ['inform', '终点名称', '凯里大十字']],\n",
       "  [['inform', '序列号', '第二个']]])"
      ]
     },
     "execution_count": 14,
     "metadata": {},
     "output_type": "execute_result"
    }
   ],
   "source": [
    "utt, semantic = train_dataset[0]\n",
    "len(train_dataset), utt, semantic"
   ]
  },
  {
   "cell_type": "code",
   "execution_count": null,
   "metadata": {},
   "outputs": [],
   "source": []
  }
 ],
 "metadata": {
  "kernelspec": {
   "display_name": "slu",
   "language": "python",
   "name": "python3"
  },
  "language_info": {
   "codemirror_mode": {
    "name": "ipython",
    "version": 3
   },
   "file_extension": ".py",
   "mimetype": "text/x-python",
   "name": "python",
   "nbconvert_exporter": "python",
   "pygments_lexer": "ipython3",
   "version": "3.6.13 |Anaconda, Inc.| (default, Jun  4 2021, 14:25:59) \n[GCC 7.5.0]"
  },
  "orig_nbformat": 4,
  "vscode": {
   "interpreter": {
    "hash": "b11488d0f7793ed5523900c148ee5e884469cc8f9d0063cdf732597162e17a3b"
   }
  }
 },
 "nbformat": 4,
 "nbformat_minor": 2
}
